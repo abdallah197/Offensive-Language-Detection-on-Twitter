{
 "cells": [
  {
   "cell_type": "code",
   "execution_count": 57,
   "outputs": [],
   "source": [
    "import pandas as pd\n",
    "import numpy as np\n",
    "from nltk.tokenize import word_tokenize\n",
    "from nltk import pos_tag\n",
    "from nltk.corpus import stopwords\n",
    "from nltk.stem import WordNetLemmatizer\n",
    "from sklearn.preprocessing import LabelEncoder\n",
    "from collections import defaultdict\n",
    "from nltk.corpus import wordnet as wn\n",
    "from sklearn.feature_extraction.text import TfidfVectorizer, CountVectorizer\n",
    "from sklearn.naive_bayes import MultinomialNB\n",
    "from sklearn import model_selection, naive_bayes, svm\n",
    "from sklearn.metrics import accuracy_score, precision_score, recall_score\n",
    "\n",
    "import twokenize"
   ],
   "metadata": {
    "collapsed": false,
    "pycharm": {
     "name": "#%%\n",
     "is_executing": false
    }
   }
  },
  {
   "cell_type": "code",
   "execution_count": 58,
   "outputs": [],
   "source": [
    "np.random.seed(500)\n",
    "df = pd.read_csv('data/train.tsv', sep ='\\t', names = ['label', 'tweet'])\n",
    "df['label'] = df['label'].map({'NOT':0, 'OFF': 1})\n",
    "df['tweet'].dropna(inplace=True)\n",
    "# df['tweet'] = df['tweet'].map(lambda x: twokenize.tokenizeRawTweetText(x))\n",
    "\n",
    "dft = pd.read_csv('data/dev.tsv', sep ='\\t', names = ['label', 'tweet'])\n",
    "dft['label'] = dft['label'].map({'NOT':0, 'OFF': 1})\n",
    "dft['tweet'].dropna(inplace=True)\n",
    "# dft['tweet'] = dft['tweet'].map(lambda x: twokenize.tokenizeRawTweetText(x))\n",
    "corpus = df+dft\n",
    "\n",
    "trainx, testx, trainy, testy = df['tweet'], dft['tweet'], df['label'], dft['label']\n",
    "\n",
    "cv = CountVectorizer(tokenizer=lambda text: twokenize.tokenizeRawTweetText(text), vocabulary=None)\n",
    "trainx = cv.fit_transform(trainx)\n",
    "\n",
    "testx = cv.transform(testx)\n",
    "\n",
    "\n",
    "\n",
    "\n"
   ],
   "metadata": {
    "collapsed": false,
    "pycharm": {
     "name": "#%%\n",
     "is_executing": false
    }
   }
  },
  {
   "cell_type": "code",
   "execution_count": 89,
   "outputs": [],
   "source": [
    "cv = CountVectorizer(tokenizer=twokenize.tokenizeRawTweetText,strip_accents='ascii')\n",
    "trainx = cv.fit_transform(trainx)\n",
    "testx = cv.transform(testx)\n",
    "naive_bayes = MultinomialNB()\n",
    "\n"
   ],
   "metadata": {
    "collapsed": false,
    "pycharm": {
     "name": "#%% \n",
     "is_executing": false
    }
   }
  },
  {
   "cell_type": "code",
   "execution_count": 90,
   "outputs": [],
   "source": [
    "naive_bayes.fit(trainx, trainy)\n",
    "predictions = naive_bayes.predict(testx)"
   ],
   "metadata": {
    "collapsed": false,
    "pycharm": {
     "name": "#%%\n",
     "is_executing": false
    }
   }
  },
  {
   "cell_type": "code",
   "execution_count": 91,
   "outputs": [
    {
     "name": "stdout",
     "text": [
      "Accuracy score:  0.66\nPrecision score:  0.8361344537815126\nRecall score:  0.398\n"
     ],
     "output_type": "stream"
    }
   ],
   "source": [
    "print(\"Accuracy score: \", accuracy_score(testy, predictions))\n",
    "print(\"Precision score: \", precision_score(testy, predictions))\n",
    "print(\"Recall score: \", recall_score(testy, predictions))"
   ],
   "metadata": {
    "collapsed": false,
    "pycharm": {
     "name": "#%%\n",
     "is_executing": false
    }
   }
  },
  {
   "cell_type": "code",
   "execution_count": 47,
   "outputs": [],
   "source": [
    "\n"
   ],
   "metadata": {
    "collapsed": false,
    "pycharm": {
     "name": "#%%\n",
     "is_executing": false
    }
   }
  }
 ],
 "metadata": {
  "language_info": {
   "codemirror_mode": {
    "name": "ipython",
    "version": 2
   },
   "file_extension": ".py",
   "mimetype": "text/x-python",
   "name": "python",
   "nbconvert_exporter": "python",
   "pygments_lexer": "ipython2",
   "version": "2.7.6"
  },
  "kernelspec": {
   "name": "python3",
   "language": "python",
   "display_name": "Python 3"
  },
  "pycharm": {
   "stem_cell": {
    "cell_type": "raw",
    "source": [
     ")#%%"
    ],
    "metadata": {
     "collapsed": false
    }
   }
  }
 },
 "nbformat": 4,
 "nbformat_minor": 0
}