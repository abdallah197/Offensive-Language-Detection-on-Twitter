{
 "cells": [
  {
   "cell_type": "code",
   "execution_count": 37,
   "outputs": [],
   "source": [
    "import pandas as pd\n",
    "import numpy as np\n",
    "from nltk.tokenize import word_tokenize\n",
    "from nltk import pos_tag\n",
    "from nltk.corpus import stopwords\n",
    "from nltk.tokenize import TweetTokenizer\n",
    "from nltk.stem import WordNetLemmatizer\n",
    "from sklearn.preprocessing import LabelEncoder\n",
    "from collections import defaultdict\n",
    "from nltk.corpus import wordnet as wn\n",
    "from sklearn.feature_extraction.text import TfidfVectorizer, CountVectorizer\n",
    "from sklearn.naive_bayes import MultinomialNB\n",
    "from sklearn import model_selection, naive_bayes, svm\n",
    "from sklearn.metrics import accuracy_score, precision_score, recall_score\n",
    "import twikenizer as twk\n",
    "import twokenize"
   ],
   "metadata": {
    "collapsed": false,
    "pycharm": {
     "name": "#%%\n",
     "is_executing": false
    }
   }
  },
  {
   "cell_type": "code",
   "execution_count": 76,
   "outputs": [],
   "source": [
    "#np.random.seed(500)\n",
    "df = pd.read_csv('data/train.tsv', sep ='\\t', names = ['label', 'tweet'])\n",
    "df['label'] = df['label'].map({'NOT':0, 'OFF': 1})\n",
    "df['tweet'].dropna(inplace=True)\n",
    "dft = pd.read_csv('data/dev.tsv', sep ='\\t', names = ['label', 'tweet'])\n",
    "dft['label'] = dft['label'].map({'NOT':0, 'OFF': 1})\n",
    "dft['tweet'].dropna(inplace=True)\n",
    "corpus = df+dft\n",
    "trainx, testx, trainy, testy = df['tweet'], dft['tweet'], df['label'], dft['label']\n",
    "cv = CountVectorizer(tokenizer=lambda text: twokenize.tokenizeRawTweetText(text), vocabulary=None)\n",
    "X_train_cv = cv.fit_transform(trainx)\n",
    "X_test_cv = cv.transform(testx)"
   ],
   "metadata": {
    "collapsed": false,
    "pycharm": {
     "name": "#%%\n",
     "is_executing": false
    }
   }
  },
  {
   "cell_type": "code",
   "execution_count": 93,
   "outputs": [],
   "source": [
    "#twk = twk.Twikenizer()\n",
    "def preprocessing(text):\n",
    "    return text.replace('@USER', '')\n",
    "    \n",
    "\n",
    "cv = CountVectorizer(analyzer='word', binary=False, decode_error='strict',\n",
    "        encoding='utf-8', input='content',\n",
    "        lowercase=True, max_df=1.0, max_features=None, min_df=1,\n",
    "        ngram_range=(1, 1), preprocessor=None, stop_words=None,\n",
    "        strip_accents=None, token_pattern='(?u)\\\\b\\\\w\\\\w+\\\\b',\n",
    "        tokenizer=twokenize.tokenizeRawTweetText, vocabulary=None)\n",
    "X_train_cv = cv.fit_transform(trainx)\n",
    "X_test_cv = cv.transform(testx)\n",
    "naive_bayes = MultinomialNB()\n",
    "\n"
   ],
   "metadata": {
    "collapsed": false,
    "pycharm": {
     "name": "#%% \n",
     "is_executing": false
    }
   }
  },
  {
   "cell_type": "code",
   "execution_count": 94,
   "outputs": [],
   "source": [
    "naive_bayes.fit(X_train_cv, trainy)\n",
    "predictions = naive_bayes.predict(X_test_cv)"
   ],
   "metadata": {
    "collapsed": false,
    "pycharm": {
     "name": "#%%\n",
     "is_executing": false
    }
   }
  },
  {
   "cell_type": "code",
   "execution_count": 95,
   "outputs": [
    {
     "name": "stdout",
     "text": [
      "Accuracy score:  0.653\nPrecision score:  0.825531914893617\nRecall score:  0.388\n"
     ],
     "output_type": "stream"
    }
   ],
   "source": [
    "print(\"Accuracy score: \", accuracy_score(testy, predictions))\n",
    "print(\"Precision score: \", precision_score(testy, predictions))\n",
    "print(\"Recall score: \", recall_score(testy, predictions))\n",
    "\n"
   ],
   "metadata": {
    "collapsed": false,
    "pycharm": {
     "name": "#%%\n",
     "is_executing": false
    }
   }
  },
  {
   "cell_type": "code",
   "execution_count": 96,
   "outputs": [
    {
     "name": "stdout",
     "text": [
      "SVM Accuracy Score ->  69.39999999999999\n"
     ],
     "output_type": "stream"
    }
   ],
   "source": [
    "SVM = svm.SVC(C=1.0, kernel='linear', degree=3, gamma='auto')\n",
    "SVM.fit(X_train_cv,trainy)\n",
    "predictions_SVM = SVM.predict(X_test_cv)\n",
    "print(\"SVM Accuracy Score -> \",accuracy_score(predictions_SVM, testy)*100)\n",
    "\n",
    "\n",
    "\n"
   ],
   "metadata": {
    "collapsed": false,
    "pycharm": {
     "name": "#%%\n",
     "is_executing": false
    }
   }
  }
 ],
 "metadata": {
  "language_info": {
   "codemirror_mode": {
    "name": "ipython",
    "version": 2
   },
   "file_extension": ".py",
   "mimetype": "text/x-python",
   "name": "python",
   "nbconvert_exporter": "python",
   "pygments_lexer": "ipython2",
   "version": "2.7.6"
  },
  "kernelspec": {
   "name": "python3",
   "language": "python",
   "display_name": "Python 3"
  },
  "pycharm": {
   "stem_cell": {
    "cell_type": "raw",
    "source": [
     ")#%%"
    ],
    "metadata": {
     "collapsed": false
    }
   }
  }
 },
 "nbformat": 4,
 "nbformat_minor": 0
}